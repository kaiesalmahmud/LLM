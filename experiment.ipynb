{
 "cells": [
  {
   "cell_type": "code",
   "execution_count": 1,
   "metadata": {},
   "outputs": [
    {
     "data": {
      "text/plain": [
       "False"
      ]
     },
     "execution_count": 1,
     "metadata": {},
     "output_type": "execute_result"
    }
   ],
   "source": [
    "import os\n",
    "from langchain.agents import create_sql_agent\n",
    "from langchain.agents.agent_toolkits import SQLDatabaseToolkit\n",
    "from langchain.sql_database import SQLDatabase\n",
    "from langchain.llms.openai import OpenAI\n",
    "from langchain.agents import AgentExecutor\n",
    "from langchain.agents.agent_types import AgentType\n",
    "from langchain.chat_models import ChatOpenAI\n",
    "\n",
    "API_KEY = open('key.txt', 'r').read().strip()\n",
    "os.environ[\"OPENAI_API_KEY\"] = API_KEY\n",
    "\n",
    "from dotenv import load_dotenv\n",
    "load_dotenv()"
   ]
  },
  {
   "cell_type": "code",
   "execution_count": 3,
   "metadata": {},
   "outputs": [],
   "source": [
    "SQL_PREFIX = \"\"\"You are an agent designed to interact with a SQL database.\n",
    "Given an input question, create a syntactically correct {dialect} query to run, then look at the results of the query and return the answer.\n",
    "Unless the user specifies a specific number of examples they wish to obtain, always limit your query to at most {top_k} results.\n",
    "You can order the results by a relevant column to return the most interesting examples in the database.\n",
    "Never query for all the columns from a specific table, only ask for the relevant columns given the question.\n",
    "You have access to tools for interacting with the database.\n",
    "Only use the below tools. Only use the information returned by the below tools to construct your final answer.\n",
    "You MUST double check your query before executing it. If you get an error while executing a query, rewrite the query and try again.\n",
    "\n",
    "DO NOT make any DML statements (INSERT, UPDATE, DELETE, DROP etc.) to the database.\n",
    "\n",
    "If the question does not seem related to the database, just return \"I don't know\" as the answer.\n",
    "\n",
    "SQL query format example:\n",
    "Question: \"Who are the top 5 retailers for the month of May in terms of total play time?\"\n",
    "Query: SELECT \"Retail Name\", SUM(\"Total Play time\") as total_play_time \n",
    "       FROM \"dailyLog\" \n",
    "       WHERE EXTRACT(MONTH FROM \"Date\") = 5 \n",
    "       GROUP BY \"Retail Name\" \n",
    "       ORDER BY total_play_time DESC \n",
    "       LIMIT 5\n",
    "\n",
    "\"\"\"\n",
    "\n",
    "SQL_FUNCTIONS_SUFFIX = \"\"\"I should look at the tables in the database to see what I can query.  Then I should query the schema of the most relevant tables.\"\"\"\n",
    "\n",
    "FORMAT_INSTRUCTIONS = \"\"\"Use the following format:\n",
    "\n",
    "Question: the input question you must answer\n",
    "Thought: you should always think about what to do\n",
    "Action: the action to take, should be one of [{tool_names}]\n",
    "Action Input: the input to the action\n",
    "Observation: the result of the action\n",
    "... (this Thought/Action/Action Input/Observation can repeat N times)\n",
    "Thought: I now know the final answer\n",
    "Final Answer: the final answer to the original input question\n",
    "\"\"\""
   ]
  },
  {
   "cell_type": "code",
   "execution_count": 5,
   "metadata": {},
   "outputs": [],
   "source": [
    "host=\"localhost\"\n",
    "port=\"5432\"\n",
    "database=\"ReportDB\"\n",
    "username=\"postgres\"\n",
    "password=\"postgres\"\n",
    "\n",
    "db = SQLDatabase.from_uri(f\"postgresql+psycopg2://{username}:{password}@{host}:{port}/{database}\")\n",
    "\n",
    "llm = ChatOpenAI(model_name=\"gpt-4\", temperature=0)\n",
    "\n",
    "toolkit = SQLDatabaseToolkit(db=db, llm=llm)"
   ]
  },
  {
   "cell_type": "code",
   "execution_count": 6,
   "metadata": {},
   "outputs": [],
   "source": [
    "agent_executor = create_sql_agent(\n",
    "    llm=llm,\n",
    "    toolkit=toolkit,\n",
    "    verbose=True,\n",
    "    agent_type=AgentType.OPENAI_FUNCTIONS,\n",
    "    prefix=SQL_PREFIX,\n",
    "    suffix=SQL_FUNCTIONS_SUFFIX,\n",
    "    format_instructions=FORMAT_INSTRUCTIONS,\n",
    "    agent_executor_kwargs = {'return_intermediate_steps': True}          # return_full_results=True ?\n",
    ")"
   ]
  },
  {
   "cell_type": "code",
   "execution_count": 4,
   "metadata": {},
   "outputs": [],
   "source": [
    "def get_response(input_text):\n",
    "    response = agent_executor(input_text)\n",
    "    sql_query = response['intermediate_steps'][-1][0].tool_input\n",
    "    message = response['intermediate_steps'][-1][0].message_log[0].content\n",
    "    answer = response['output']\n",
    "    return sql_query, message, answer"
   ]
  },
  {
   "cell_type": "code",
   "execution_count": 7,
   "metadata": {},
   "outputs": [
    {
     "name": "stdout",
     "output_type": "stream",
     "text": [
      "\n",
      "\n",
      "\u001b[1m> Entering new  chain...\u001b[0m\n",
      "\u001b[32;1m\u001b[1;3m\n",
      "Invoking: `sql_db_list_tables` with ``\n",
      "\n",
      "\n",
      "\u001b[0m\u001b[38;5;200m\u001b[1;3mdailyLog\u001b[0m\u001b[32;1m\u001b[1;3m\n",
      "Invoking: `sql_db_schema` with `dailyLog`\n",
      "\n",
      "\n",
      "\u001b[0m\u001b[33;1m\u001b[1;3m\n",
      "CREATE TABLE \"dailyLog\" (\n",
      "\t\"Date\" DATE, \n",
      "\t\"Retail Name\" TEXT, \n",
      "\t\"Zone\" TEXT, \n",
      "\t\"Location\" TEXT, \n",
      "\t\"Total Play time\" INTERVAL, \n",
      "\t\"Efficiency (percent)\" DOUBLE PRECISION, \n",
      "\t\"Start Time\" TIMESTAMP WITHOUT TIME ZONE, \n",
      "\t\"End Time\" TIMESTAMP WITHOUT TIME ZONE, \n",
      "\t\"Device Offline time\" INTERVAL, \n",
      "\t\"Remarks\" TEXT\n",
      ")\n",
      "\n",
      "/*\n",
      "3 rows from dailyLog table:\n",
      "Date\tRetail Name\tZone\tLocation\tTotal Play time\tEfficiency (percent)\tStart Time\tEnd Time\tDevice Offline time\tRemarks\n",
      "2023-03-01\tGRD-004 Soudia Store\tNew Market Zone (75 Screens)\tGreen Road\t12:10:35\t122.0\t2023-03-01 10:27:27\t2023-03-01 23:19:36\t0:22:00\tNone\n",
      "2023-03-01\tGRD-007 Ma genarel store\tNew Market Zone (75 Screens)\tGreen Road\t11:52:08\t119.0\t2023-03-01 09:55:49\t2023-03-01 22:05:03\t0:00:00\tNone\n",
      "2023-03-01\tGRD-009 Al Karim Super Shop\tNew Market Zone (75 Screens)\tGreen Road\t12:27:40\t125.0\t2023-03-01 09:02:04\t2023-03-01 22:04:56\t0:16:00\tNone\n",
      "*/\u001b[0m\u001b[32;1m\u001b[1;3m\n",
      "Invoking: `sql_db_query_checker` with `SELECT \"Retail Name\", SUM(\"Total Play time\") as total_play_time FROM \"dailyLog\" WHERE EXTRACT(MONTH FROM \"Date\") = 5 GROUP BY \"Retail Name\" ORDER BY total_play_time DESC LIMIT 5`\n",
      "responded: {content}\n",
      "\n",
      "\u001b[0m\u001b[36;1m\u001b[1;3mThe original query seems to be correct. There are no common mistakes present. Here is the reproduction of the original query:\n",
      "\n",
      "SELECT \"Retail Name\", SUM(\"Total Play time\") as total_play_time \n",
      "FROM \"dailyLog\" \n",
      "WHERE EXTRACT(MONTH FROM \"Date\") = 5 \n",
      "GROUP BY \"Retail Name\" \n",
      "ORDER BY total_play_time DESC \n",
      "LIMIT 5\u001b[0m\u001b[32;1m\u001b[1;3m\n",
      "Invoking: `sql_db_query` with `SELECT \"Retail Name\", SUM(\"Total Play time\") as total_play_time FROM \"dailyLog\" WHERE EXTRACT(MONTH FROM \"Date\") = 5 GROUP BY \"Retail Name\" ORDER BY total_play_time DESC LIMIT 5`\n",
      "\n",
      "\n",
      "\u001b[0m\u001b[36;1m\u001b[1;3m[('GRD-010 Ayra Mart', None), ('MDK-002 Hakim store', datetime.timedelta(days=18, seconds=36232)), ('HBH-004 New General Balaka Store', datetime.timedelta(days=18, seconds=14340)), ('ZGT-016 Brothers genarel store', datetime.timedelta(days=17, seconds=69202)), ('GRD-004 Soudia Store', datetime.timedelta(days=17, seconds=25273))]\u001b[0m\u001b[32;1m\u001b[1;3mThe top 5 retailers for the month of May are:\n",
      "\n",
      "1. GRD-010 Ayra Mart\n",
      "2. MDK-002 Hakim store\n",
      "3. HBH-004 New General Balaka Store\n",
      "4. ZGT-016 Brothers genarel store\n",
      "5. GRD-004 Soudia Store\u001b[0m\n",
      "\n",
      "\u001b[1m> Finished chain.\u001b[0m\n"
     ]
    }
   ],
   "source": [
    "steps = agent_executor(\"Who are the top 5 retailers for the month of May?\")"
   ]
  },
  {
   "cell_type": "code",
   "execution_count": 8,
   "metadata": {},
   "outputs": [
    {
     "name": "stdout",
     "output_type": "stream",
     "text": [
      "dict_keys(['input', 'output', 'intermediate_steps'])\n"
     ]
    }
   ],
   "source": [
    "print(steps.keys())"
   ]
  },
  {
   "cell_type": "code",
   "execution_count": 46,
   "metadata": {},
   "outputs": [
    {
     "name": "stdout",
     "output_type": "stream",
     "text": [
      "Who are the top 5 retailers for the month of May?\n"
     ]
    }
   ],
   "source": [
    "input = steps['input']\n",
    "print(input)"
   ]
  },
  {
   "cell_type": "code",
   "execution_count": 48,
   "metadata": {},
   "outputs": [
    {
     "name": "stdout",
     "output_type": "stream",
     "text": [
      "The top 5 retailers for the month of May are:\n",
      "\n",
      "1. GRD-010 Ayra Mart\n",
      "2. MDK-002 Hakim store\n",
      "3. HBH-004 New General Balaka Store\n",
      "4. ZGT-016 Brothers genarel store\n",
      "5. GRD-004 Soudia Store\n"
     ]
    }
   ],
   "source": [
    "output = steps['output']\n",
    "print(output)"
   ]
  },
  {
   "cell_type": "code",
   "execution_count": 49,
   "metadata": {},
   "outputs": [
    {
     "name": "stdout",
     "output_type": "stream",
     "text": [
      "4\n"
     ]
    }
   ],
   "source": [
    "print(len(steps['intermediate_steps']))"
   ]
  },
  {
   "cell_type": "code",
   "execution_count": 71,
   "metadata": {},
   "outputs": [
    {
     "name": "stdout",
     "output_type": "stream",
     "text": [
      "-----------------\n",
      "Step 0\n",
      "-----------------\n",
      ">>\n",
      "_FunctionsAgentAction(tool='sql_db_list_tables', tool_input='', log='\\nInvoking: `sql_db_list_tables` with ``\\n\\n\\n', message_log=[AIMessage(content='', additional_kwargs={'function_call': {'name': 'sql_db_list_tables', 'arguments': '{\\n  \"__arg1\": \"\"\\n}'}}, example=False)])\n",
      ">>\n",
      "dailyLog\n",
      "-----------------\n",
      "Step 1\n",
      "-----------------\n",
      ">>\n",
      "_FunctionsAgentAction(tool='sql_db_schema', tool_input='dailyLog', log='\\nInvoking: `sql_db_schema` with `dailyLog`\\n\\n\\n', message_log=[AIMessage(content='', additional_kwargs={'function_call': {'name': 'sql_db_schema', 'arguments': '{\\n  \"__arg1\": \"dailyLog\"\\n}'}}, example=False)])\n",
      ">>\n",
      "\n",
      "CREATE TABLE \"dailyLog\" (\n",
      "\t\"Date\" DATE, \n",
      "\t\"Retail Name\" TEXT, \n",
      "\t\"Zone\" TEXT, \n",
      "\t\"Location\" TEXT, \n",
      "\t\"Total Play time\" INTERVAL, \n",
      "\t\"Efficiency (percent)\" DOUBLE PRECISION, \n",
      "\t\"Start Time\" TIMESTAMP WITHOUT TIME ZONE, \n",
      "\t\"End Time\" TIMESTAMP WITHOUT TIME ZONE, \n",
      "\t\"Device Offline time\" INTERVAL, \n",
      "\t\"Remarks\" TEXT\n",
      ")\n",
      "\n",
      "/*\n",
      "3 rows from dailyLog table:\n",
      "Date\tRetail Name\tZone\tLocation\tTotal Play time\tEfficiency (percent)\tStart Time\tEnd Time\tDevice Offline time\tRemarks\n",
      "2023-03-01\tGRD-004 Soudia Store\tNew Market Zone (75 Screens)\tGreen Road\t12:10:35\t122.0\t2023-03-01 10:27:27\t2023-03-01 23:19:36\t0:22:00\tNone\n",
      "2023-03-01\tGRD-007 Ma genarel store\tNew Market Zone (75 Screens)\tGreen Road\t11:52:08\t119.0\t2023-03-01 09:55:49\t2023-03-01 22:05:03\t0:00:00\tNone\n",
      "2023-03-01\tGRD-009 Al Karim Super Shop\tNew Market Zone (75 Screens)\tGreen Road\t12:27:40\t125.0\t2023-03-01 09:02:04\t2023-03-01 22:04:56\t0:16:00\tNone\n",
      "*/\n",
      "-----------------\n",
      "Step 2\n",
      "-----------------\n",
      ">>\n",
      "_FunctionsAgentAction(tool='sql_db_query_checker', tool_input='SELECT \"Retail Name\", SUM(\"Total Play time\") as total_play_time FROM \"dailyLog\" WHERE EXTRACT(MONTH FROM \"Date\") = 5 GROUP BY \"Retail Name\" ORDER BY total_play_time DESC LIMIT 5', log='\\nInvoking: `sql_db_query_checker` with `SELECT \"Retail Name\", SUM(\"Total Play time\") as total_play_time FROM \"dailyLog\" WHERE EXTRACT(MONTH FROM \"Date\") = 5 GROUP BY \"Retail Name\" ORDER BY total_play_time DESC LIMIT 5`\\nresponded: {content}\\n\\n', message_log=[AIMessage(content='The \"dailyLog\" table contains the information we need. We can group by \"Retail Name\" and sum the \"Total Play time\" for the month of May. Let\\'s write the query.', additional_kwargs={'function_call': {'name': 'sql_db_query_checker', 'arguments': '{\\n  \"__arg1\": \"SELECT \\\\\"Retail Name\\\\\", SUM(\\\\\"Total Play time\\\\\") as total_play_time FROM \\\\\"dailyLog\\\\\" WHERE EXTRACT(MONTH FROM \\\\\"Date\\\\\") = 5 GROUP BY \\\\\"Retail Name\\\\\" ORDER BY total_play_time DESC LIMIT 5\"\\n}'}}, example=False)])\n",
      ">>\n",
      "The original query seems to be correct. There are no common mistakes present. Here is the reproduction of the original query:\n",
      "\n",
      "SELECT \"Retail Name\", SUM(\"Total Play time\") as total_play_time \n",
      "FROM \"dailyLog\" \n",
      "WHERE EXTRACT(MONTH FROM \"Date\") = 5 \n",
      "GROUP BY \"Retail Name\" \n",
      "ORDER BY total_play_time DESC \n",
      "LIMIT 5\n",
      "-----------------\n",
      "Step 3\n",
      "-----------------\n",
      ">>\n",
      "_FunctionsAgentAction(tool='sql_db_query', tool_input='SELECT \"Retail Name\", SUM(\"Total Play time\") as total_play_time FROM \"dailyLog\" WHERE EXTRACT(MONTH FROM \"Date\") = 5 GROUP BY \"Retail Name\" ORDER BY total_play_time DESC LIMIT 5', log='\\nInvoking: `sql_db_query` with `SELECT \"Retail Name\", SUM(\"Total Play time\") as total_play_time FROM \"dailyLog\" WHERE EXTRACT(MONTH FROM \"Date\") = 5 GROUP BY \"Retail Name\" ORDER BY total_play_time DESC LIMIT 5`\\n\\n\\n', message_log=[AIMessage(content='', additional_kwargs={'function_call': {'name': 'sql_db_query', 'arguments': '{\\n  \"__arg1\": \"SELECT \\\\\"Retail Name\\\\\", SUM(\\\\\"Total Play time\\\\\") as total_play_time FROM \\\\\"dailyLog\\\\\" WHERE EXTRACT(MONTH FROM \\\\\"Date\\\\\") = 5 GROUP BY \\\\\"Retail Name\\\\\" ORDER BY total_play_time DESC LIMIT 5\"\\n}'}}, example=False)])\n",
      ">>\n",
      "[('GRD-010 Ayra Mart', None), ('MDK-002 Hakim store', datetime.timedelta(days=18, seconds=36232)), ('HBH-004 New General Balaka Store', datetime.timedelta(days=18, seconds=14340)), ('ZGT-016 Brothers genarel store', datetime.timedelta(days=17, seconds=69202)), ('GRD-004 Soudia Store', datetime.timedelta(days=17, seconds=25273))]\n"
     ]
    }
   ],
   "source": [
    "for i in range(len(steps['intermediate_steps'])):\n",
    "    print('-----------------')\n",
    "    print('Step', i)\n",
    "    print('-----------------')\n",
    "    print('>>')\n",
    "    print(steps['intermediate_steps'][i][0])\n",
    "    print('>>')\n",
    "    print(steps['intermediate_steps'][i][1])"
   ]
  },
  {
   "cell_type": "code",
   "execution_count": 82,
   "metadata": {},
   "outputs": [
    {
     "name": "stdout",
     "output_type": "stream",
     "text": [
      "Tool:\n",
      "sql_db_query_checker\n",
      "Message:\n",
      "The \"dailyLog\" table contains the information we need. We can group by \"Retail Name\" and sum the \"Total Play time\" for the month of May. Let's write the query.\n"
     ]
    }
   ],
   "source": [
    "for i in range(len(steps['intermediate_steps'])):\n",
    "    if steps['intermediate_steps'][i][0].message_log[0].content != '':\n",
    "        print('Tool:')\n",
    "        print(steps['intermediate_steps'][i][0].tool)\n",
    "        print('Message:')\n",
    "        print(steps['intermediate_steps'][i][0].message_log[0].content)"
   ]
  },
  {
   "cell_type": "code",
   "execution_count": 77,
   "metadata": {},
   "outputs": [
    {
     "name": "stdout",
     "output_type": "stream",
     "text": [
      "dailyLog\n"
     ]
    }
   ],
   "source": [
    "if steps['intermediate_steps'][0][0].tool == 'sql_db_list_tables':\n",
    "    list_of_tables = steps['intermediate_steps'][0][1]\n",
    "print(list_of_tables)"
   ]
  },
  {
   "cell_type": "code",
   "execution_count": 41,
   "metadata": {},
   "outputs": [
    {
     "name": "stdout",
     "output_type": "stream",
     "text": [
      "\n",
      "CREATE TABLE \"dailyLog\" (\n",
      "\t\"Date\" DATE, \n",
      "\t\"Retail Name\" TEXT, \n",
      "\t\"Zone\" TEXT, \n",
      "\t\"Location\" TEXT, \n",
      "\t\"Total Play time\" INTERVAL, \n",
      "\t\"Efficiency (percent)\" DOUBLE PRECISION, \n",
      "\t\"Start Time\" TIMESTAMP WITHOUT TIME ZONE, \n",
      "\t\"End Time\" TIMESTAMP WITHOUT TIME ZONE, \n",
      "\t\"Device Offline time\" INTERVAL, \n",
      "\t\"Remarks\" TEXT\n",
      ")\n",
      "\n",
      "/*\n",
      "3 rows from dailyLog table:\n",
      "Date\tRetail Name\tZone\tLocation\tTotal Play time\tEfficiency (percent)\tStart Time\tEnd Time\tDevice Offline time\tRemarks\n",
      "2023-03-01\tGRD-004 Soudia Store\tNew Market Zone (75 Screens)\tGreen Road\t12:10:35\t122.0\t2023-03-01 10:27:27\t2023-03-01 23:19:36\t0:22:00\tNone\n",
      "2023-03-01\tGRD-007 Ma genarel store\tNew Market Zone (75 Screens)\tGreen Road\t11:52:08\t119.0\t2023-03-01 09:55:49\t2023-03-01 22:05:03\t0:00:00\tNone\n",
      "2023-03-01\tGRD-009 Al Karim Super Shop\tNew Market Zone (75 Screens)\tGreen Road\t12:27:40\t125.0\t2023-03-01 09:02:04\t2023-03-01 22:04:56\t0:16:00\tNone\n",
      "*/\n"
     ]
    }
   ],
   "source": [
    "if steps['intermediate_steps'][1][0].tool == 'sql_db_schema':\n",
    "    schema = steps['intermediate_steps'][1][1]\n",
    "print(schema)"
   ]
  },
  {
   "cell_type": "code",
   "execution_count": 78,
   "metadata": {},
   "outputs": [
    {
     "name": "stdout",
     "output_type": "stream",
     "text": [
      "SELECT \"Retail Name\", SUM(\"Total Play time\") as total_play_time FROM \"dailyLog\" WHERE EXTRACT(MONTH FROM \"Date\") = 5 GROUP BY \"Retail Name\" ORDER BY total_play_time DESC LIMIT 5\n"
     ]
    }
   ],
   "source": [
    "if steps['intermediate_steps'][-1][0].tool == 'sql_db_query':\n",
    "    query = steps['intermediate_steps'][-1][0].tool_input\n",
    "print(query)"
   ]
  },
  {
   "cell_type": "code",
   "execution_count": 83,
   "metadata": {},
   "outputs": [
    {
     "name": "stdout",
     "output_type": "stream",
     "text": [
      "[('GRD-010 Ayra Mart', None), ('MDK-002 Hakim store', datetime.timedelta(days=18, seconds=36232)), ('HBH-004 New General Balaka Store', datetime.timedelta(days=18, seconds=14340)), ('ZGT-016 Brothers genarel store', datetime.timedelta(days=17, seconds=69202)), ('GRD-004 Soudia Store', datetime.timedelta(days=17, seconds=25273))]\n"
     ]
    }
   ],
   "source": [
    "if steps['intermediate_steps'][-1][0].tool == 'sql_db_query':\n",
    "    query_output = steps['intermediate_steps'][-1][1]\n",
    "print(query_output)"
   ]
  },
  {
   "cell_type": "code",
   "execution_count": 90,
   "metadata": {},
   "outputs": [],
   "source": [
    "import openai\n",
    "\n",
    "message_history = [{\"role\": \"user\", \"content\": f\"\"\"You are a SQL query explainer bot. That means you will explain the logic of a SQL query. \n",
    "                    There is a postgreSQL database table with the following table:\n",
    "\n",
    "                    {schema}                   \n",
    "                    \n",
    "                    A SQL query is executed on the table and it returns the following result:\n",
    "\n",
    "                    {query_output}\n",
    "\n",
    "                    I will give you the SQL query executed to get the result and you will explain the logic executed in the query.\n",
    "                    Make the explanation brief and simple. It will be used as the explanation of the results. Do not mention the query itself.\n",
    "                    No need to explain the total query. Just explain the logic of the query.\n",
    "                    Reply only with the explaination to further input. If you understand, say OK.\"\"\"},\n",
    "                   {\"role\": \"assistant\", \"content\": f\"OK\"}]"
   ]
  },
  {
   "cell_type": "code",
   "execution_count": 93,
   "metadata": {},
   "outputs": [],
   "source": [
    "def explain(query):\n",
    "    global message_history\n",
    "\n",
    "    message_history.append({\"role\": \"user\", \"content\": query})\n",
    "\n",
    "    completion = openai.ChatCompletion.create(\n",
    "        model=\"gpt-3.5-turbo\",\n",
    "        messages=message_history,\n",
    "    )\n",
    "\n",
    "    reply_content = completion.choices[0].message.content\n",
    "    print(\"Explaination:\\n\"+ reply_content)"
   ]
  },
  {
   "cell_type": "code",
   "execution_count": 94,
   "metadata": {},
   "outputs": [
    {
     "name": "stdout",
     "output_type": "stream",
     "text": [
      "Explaination:\n",
      "The query selects the \"Retail Name\" column and calculates the total play time by summing up the \"Total Play time\" column. It filters the data by only considering records where the month of the \"Date\" column is 5. Then, it groups the result by \"Retail Name\" column. Finally, it sorts the result in descending order based on the total play time and limits the output to the top 5 records.\n"
     ]
    }
   ],
   "source": [
    "explain(query)"
   ]
  },
  {
   "cell_type": "code",
   "execution_count": null,
   "metadata": {},
   "outputs": [],
   "source": []
  }
 ],
 "metadata": {
  "kernelspec": {
   "display_name": "llm",
   "language": "python",
   "name": "python3"
  },
  "language_info": {
   "codemirror_mode": {
    "name": "ipython",
    "version": 3
   },
   "file_extension": ".py",
   "mimetype": "text/x-python",
   "name": "python",
   "nbconvert_exporter": "python",
   "pygments_lexer": "ipython3",
   "version": "3.9.16"
  },
  "orig_nbformat": 4
 },
 "nbformat": 4,
 "nbformat_minor": 2
}
