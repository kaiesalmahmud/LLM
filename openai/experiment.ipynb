{
 "cells": [
  {
   "cell_type": "code",
   "execution_count": 2,
   "metadata": {},
   "outputs": [],
   "source": [
    "import openai\n",
    "\n",
    "openai.api_key = open('key.txt', 'r').read().strip()"
   ]
  },
  {
   "cell_type": "code",
   "execution_count": 3,
   "metadata": {},
   "outputs": [
    {
     "name": "stdout",
     "output_type": "stream",
     "text": [
      "{\n",
      "  \"id\": \"chatcmpl-7RG4r1IuX5XQAMN9zuAWsW7RLIx1d\",\n",
      "  \"object\": \"chat.completion\",\n",
      "  \"created\": 1686731013,\n",
      "  \"model\": \"gpt-3.5-turbo-0301\",\n",
      "  \"usage\": {\n",
      "    \"prompt_tokens\": 18,\n",
      "    \"completion_tokens\": 13,\n",
      "    \"total_tokens\": 31\n",
      "  },\n",
      "  \"choices\": [\n",
      "    {\n",
      "      \"message\": {\n",
      "        \"role\": \"assistant\",\n",
      "        \"content\": \"The circumference of the moon is approximately 10,921 km.\"\n",
      "      },\n",
      "      \"finish_reason\": \"stop\",\n",
      "      \"index\": 0\n",
      "    }\n",
      "  ]\n",
      "}\n"
     ]
    }
   ],
   "source": [
    "completion = openai.ChatCompletion.create(\n",
    "    model = 'gpt-3.5-turbo',\n",
    "    messages=[{'role': 'user', 'content': 'what is the circumference of the moon in km?'}]\n",
    ")\n",
    "\n",
    "print(completion)"
   ]
  },
  {
   "cell_type": "code",
   "execution_count": 24,
   "metadata": {},
   "outputs": [],
   "source": [
    "message_history = []\n",
    "\n",
    "def chat(inp, role=\"user\"):\n",
    "    message_history.append({\"role\": role, \"content\": inp})\n",
    "\n",
    "    completion = openai.ChatCompletion.create(\n",
    "        model=\"gpt-3.5-turbo\",\n",
    "        messages=message_history,\n",
    "    )\n",
    "\n",
    "    reply_content = completion.choices[0].message.content\n",
    "    print(\"Bot:\\n\"+ reply_content)\n",
    "\n",
    "    message_history.append({\"role\": \"assistant\", \"content\": reply_content})\n",
    "\n",
    "    return reply_content"
   ]
  },
  {
   "cell_type": "code",
   "execution_count": 26,
   "metadata": {},
   "outputs": [
    {
     "name": "stdout",
     "output_type": "stream",
     "text": [
      "User:\n",
      "hello\n",
      "\n",
      "Bot:\n",
      "Hello again! Is there something you would like to discuss or ask about?\n",
      "\n",
      "User:\n",
      "who are you?\n",
      "\n",
      "Bot:\n",
      "I am an AI language model created by OpenAI. You can think of me as a computer program that can understand and respond to your messages in natural language. How can I assist you today?\n",
      "\n"
     ]
    }
   ],
   "source": [
    "for i in range(2):\n",
    "    user_input = input(\">: \")\n",
    "\n",
    "    print(\"User:\\n\"+ user_input)\n",
    "    print()\n",
    "\n",
    "    chat(user_input)\n",
    "    print()"
   ]
  },
  {
   "cell_type": "code",
   "execution_count": null,
   "metadata": {},
   "outputs": [],
   "source": []
  }
 ],
 "metadata": {
  "kernelspec": {
   "display_name": "llm",
   "language": "python",
   "name": "python3"
  },
  "language_info": {
   "codemirror_mode": {
    "name": "ipython",
    "version": 3
   },
   "file_extension": ".py",
   "mimetype": "text/x-python",
   "name": "python",
   "nbconvert_exporter": "python",
   "pygments_lexer": "ipython3",
   "version": "3.9.16"
  },
  "orig_nbformat": 4
 },
 "nbformat": 4,
 "nbformat_minor": 2
}
